{
 "cells": [
  {
   "cell_type": "code",
   "execution_count": null,
   "id": "ac3b8485-050a-4a60-9139-8b346ead49f5",
   "metadata": {},
   "outputs": [],
   "source": [
    "#1.What exactly is []?\n",
    "\n",
    "In python [] is used for multiple reasons.\n",
    "\n",
    "[] can be used to create an empyt list\n",
    "[] is also used for calling a element using indexing"
   ]
  },
  {
   "cell_type": "code",
   "execution_count": null,
   "id": "217a8744-8a1d-4e50-9e34-22e39bb9bfb8",
   "metadata": {},
   "outputs": [],
   "source": [
    "#2.In a list of values stored in a variable called spam, \n",
    "#how would you assign the value 'hello' as the third value? (Assume [2, 4, 6, 8, 10] are in spam.)\n",
    "\n",
    "\n",
    "spam[2] = 'hello'\n",
    "\n",
    "using the above code we can assign third vaue in the list."
   ]
  },
  {
   "cell_type": "code",
   "execution_count": null,
   "id": "d6428442-4131-4d70-8a66-fcae85650b46",
   "metadata": {},
   "outputs": [],
   "source": [
    "\"\"\"\n",
    "Let's pretend the spam includes the list ['a', 'b', 'c', 'd'] for the next three queries.\n",
    "3. What is the value of spam[int(int('3' * 2) / 11)]?\n",
    "4. What is the value of spam[-1]?\n",
    "5. What is the value of spam[:2]?\n",
    "\"\"\"\n",
    "\n",
    "3 Ans: d\n",
    "4 Ans: d\n",
    "5 Ans: [a,b]"
   ]
  },
  {
   "cell_type": "code",
   "execution_count": null,
   "id": "35d24f04-af0f-4a9f-aad8-9240547f950a",
   "metadata": {},
   "outputs": [],
   "source": [
    "\"\"\"\n",
    "Let's pretend bacon has the list [3.14, 'cat,' 11, 'cat,' True] for the next three questions.\n",
    "6. What is the value of bacon.index('cat')?\n",
    "7. How does bacon.append(99) change the look of the list value in bacon?\n",
    "8. How does bacon.remove('cat') change the look of the list in bacon?\n",
    "\"\"\"\n",
    "\n",
    "6 Ans: 1\n",
    "7 Ans: It will just add 99 to the end making bacon as [3.14, 'cat,' 11, 'cat,' True, 99]\n",
    "8 Ans: It will just remove the index of cat making bacon as [3.14, 11, 'cat,' True]"
   ]
  },
  {
   "cell_type": "code",
   "execution_count": null,
   "id": "dbfa54f5-25fb-45c9-99ae-444153bf1910",
   "metadata": {},
   "outputs": [],
   "source": [
    "#9.What are the list concatenation and list replication operators\n",
    "\n",
    "\n",
    "list concatenation operator is '+' and list replication operator is '*'"
   ]
  },
  {
   "cell_type": "code",
   "execution_count": null,
   "id": "f63cb04d-884b-4440-b34a-9b600c047551",
   "metadata": {},
   "outputs": [],
   "source": [
    "#10. What is difference between the list methods append() and insert()?\n",
    "\n",
    "append() adds the item at the end of the list. the syntax of append accepts only the value to be added.\n",
    "\n",
    "insert() adds the items at the specified position in the list. It accepts the index value and the element value as inputs."
   ]
  },
  {
   "cell_type": "code",
   "execution_count": null,
   "id": "8cb2cd0d-5a5a-4eb7-a1d3-3f348d52216f",
   "metadata": {},
   "outputs": [],
   "source": [
    "#11. What are the two methods for removing items from a list?\n",
    "\n",
    "pop() and remove() can be used to remove items from a list"
   ]
  },
  {
   "cell_type": "code",
   "execution_count": null,
   "id": "49668ae2-ebf9-4382-bc1d-4f07222f2e71",
   "metadata": {},
   "outputs": [],
   "source": [
    "#12. Describe how list values and string values are identical\n",
    "\n",
    "lists are set of elements with same or different data types \n",
    "and strings are set of characters"
   ]
  },
  {
   "cell_type": "code",
   "execution_count": null,
   "id": "b198db1d-0265-4d82-9eee-650e514e0431",
   "metadata": {},
   "outputs": [],
   "source": [
    "#13. What's the difference between tuples and lists?\n",
    "\n",
    "tuples are not changable. once created, the values or order cannot be changed.\n",
    "Lists are changable. they can be rearranged, manipulated."
   ]
  },
  {
   "cell_type": "code",
   "execution_count": null,
   "id": "db4f3789-2615-4a92-85df-62d3046c1dc2",
   "metadata": {},
   "outputs": [],
   "source": [
    "#14. How do you type a tuple value that only contains the integer 42?\n",
    "\n",
    "(42,)\n",
    "\n",
    "If we dont use , at the end it will consider the value as type integer."
   ]
  },
  {
   "cell_type": "code",
   "execution_count": null,
   "id": "c210e9b0-42ba-4ed0-a0ba-9bdfd61cccfa",
   "metadata": {},
   "outputs": [],
   "source": [
    "#15. How do you get a list value's tuple form? How do you get a tuple value's list form?\n",
    "\n",
    "\n",
    "type casting works to get the tuple form of list or list form of tuple.\n",
    "\n",
    "a = (1,2,4) -- this is a tuple\n",
    "b = list(a) -- this converts the tuple 'a' into a list and assigns it to b.\n",
    "c = tuple(b) -- this converts the list 'b' into tuple and assigns it to c."
   ]
  },
  {
   "cell_type": "code",
   "execution_count": null,
   "id": "55894281-fa7f-47f5-8434-e6d36457cfec",
   "metadata": {},
   "outputs": [],
   "source": [
    "#16. Variables that \"contain\" list values are not necessarily lists themselves. Instead, what do they contain?\n",
    "\n",
    "They contain the references to the list values.\n"
   ]
  },
  {
   "cell_type": "code",
   "execution_count": null,
   "id": "3daa0aa1-842f-44c7-9a5d-e409fb59f319",
   "metadata": {},
   "outputs": [],
   "source": [
    "#17. How do you distinguish between copy.copy() and copy.deepcopy()?\n",
    "\n",
    "\n",
    "copy() or shallow copy copies the items but the child elements are still refreced to the original version\n",
    "\n",
    "deepcopy() or deep copy copies the items as a completely new entity. it is no way dependent on the original version."
   ]
  }
 ],
 "metadata": {
  "kernelspec": {
   "display_name": "Python 3 (ipykernel)",
   "language": "python",
   "name": "python3"
  },
  "language_info": {
   "codemirror_mode": {
    "name": "ipython",
    "version": 3
   },
   "file_extension": ".py",
   "mimetype": "text/x-python",
   "name": "python",
   "nbconvert_exporter": "python",
   "pygments_lexer": "ipython3",
   "version": "3.10.6"
  }
 },
 "nbformat": 4,
 "nbformat_minor": 5
}
