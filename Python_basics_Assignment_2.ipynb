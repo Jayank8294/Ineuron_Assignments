{
 "cells": [
  {
   "cell_type": "code",
   "execution_count": null,
   "id": "e19cb2ea-9fc5-4fe1-8344-d80f9bead70c",
   "metadata": {},
   "outputs": [],
   "source": [
    "#1.What are the two values of the Boolean data type? How do you write them?\n",
    "\n",
    "The two values of boolean data type are \"True\" and \"False\""
   ]
  },
  {
   "cell_type": "code",
   "execution_count": null,
   "id": "d869180e-e201-426e-918a-7b9b3d60f872",
   "metadata": {},
   "outputs": [],
   "source": [
    "#2. What are the three different types of Boolean operators?\n",
    "\n",
    "The three basic operators of boolean are \"OR\" , \"AND\" and \"NOT\""
   ]
  },
  {
   "cell_type": "code",
   "execution_count": null,
   "id": "7a6a3502-f508-464a-a781-ba98a0275cd4",
   "metadata": {},
   "outputs": [],
   "source": [
    "#3. Make a list of each Boolean operator's truth tables (i.e. every possible combination of Boolean values for the operator and what it evaluate ).\n",
    "\n",
    "\n",
    "OR:\n",
    "Value1   value2   Result\n",
    "True      True     True\n",
    "True      False    True\n",
    "False     True     True\n",
    "False     False    False\n",
    "\n",
    "AND:\n",
    "Value1   value2   Result\n",
    "True      True     True\n",
    "True      False    False\n",
    "False     True     False\n",
    "False     False    False\n",
    "\n",
    "\n",
    "NOT:\n",
    "Value1    Result\n",
    "False     True\n",
    "True      False"
   ]
  },
  {
   "cell_type": "code",
   "execution_count": null,
   "id": "566e8476-c1eb-4b61-8221-54e9dffd2e6a",
   "metadata": {},
   "outputs": [],
   "source": [
    "\"\"\"\n",
    "4) What are the values of the following expressions?\n",
    "(5 > 4) and (3 == 5)\n",
    "not (5 > 4)\n",
    "(5 > 4) or (3 == 5)\n",
    "not ((5 > 4) or (3 == 5))\n",
    "(True and True) and (True == False)\n",
    "(not False) or (not True)\n",
    "\"\"\"\n",
    "\n",
    "(5 > 4) and (3 == 5) ------ False\n",
    "not (5 > 4) ------ False\n",
    "(5 > 4) or (3 == 5) ------ True\n",
    "not ((5 > 4) or (3 == 5)) ------ False\n",
    "(True and True) and (True == False)  ------ False\n",
    "(not False) or (not True) ------ True"
   ]
  },
  {
   "cell_type": "code",
   "execution_count": null,
   "id": "855377ca-f847-4441-ac27-9160220f6dda",
   "metadata": {},
   "outputs": [],
   "source": [
    "#5. What are the six comparison operators?\n",
    "\n",
    "The below are the comparison operators in python.\n",
    "==\n",
    ">=\n",
    "<=\n",
    "!=\n",
    ">\n",
    "<"
   ]
  },
  {
   "cell_type": "code",
   "execution_count": null,
   "id": "53335ea3-96c1-4928-8a04-9523130a0550",
   "metadata": {},
   "outputs": [],
   "source": [
    "#6. How do you tell the difference between the equal to and assignment operators?Describe a condition and when you would use one.\n",
    "\n",
    "Equal to operator has \"==\" and is used to compare one variable with other (Ex: if A == B : )\n",
    "Whereas the assignment operator is used to assign a value to a variable (Ex: a = 10)\n",
    "\n",
    "Sample code:\n",
    "a = 10\n",
    "if a == 10:\n",
    "    True\n",
    "else:\n",
    "    False\n",
    "    \n",
    "In this above code we used assignment operator to give the value to 'a' in the first line\n",
    "and in the if condition we used qual to operator to verify the value."
   ]
  },
  {
   "cell_type": "code",
   "execution_count": null,
   "id": "e4a1b2ba-02c7-4f5a-9135-46c9f3082ec9",
   "metadata": {},
   "outputs": [],
   "source": [
    "7. Identify the three blocks in this code:\n",
    "spam = 0\n",
    "if spam == 10:\n",
    "print('eggs')\n",
    "if spam > 5:\n",
    "print('bacon')\n",
    "else:\n",
    "print('ham')\n",
    "print('spam')\n",
    "\n",
    "\n",
    "Answer:\n",
    "spam = 0\n",
    "if spam == 10:\n",
    "    print('eggs')\n",
    "if spam > 5:\n",
    "    print('bacon')\n",
    "else:\n",
    "    print('ham')\n",
    "print('spam')\n",
    "\n"
   ]
  },
  {
   "cell_type": "code",
   "execution_count": null,
   "id": "eadbce24-185b-4cff-be48-5a8a6667b144",
   "metadata": {},
   "outputs": [],
   "source": [
    "#8. Write code that prints Hello if 1 is stored in spam, prints Howdy if 2 is stored in spam, \n",
    "# and prints Greetings! if anything else is stored in spam.\n",
    "\n",
    "spam = int(input())\n",
    "if spam == 1:\n",
    "    print('Hello')\n",
    "else if spam == 2:\n",
    "    print('Howdy')\n",
    "else:\n",
    "    print('Greetings!')"
   ]
  }
 ],
 "metadata": {
  "kernelspec": {
   "display_name": "Python 3 (ipykernel)",
   "language": "python",
   "name": "python3"
  },
  "language_info": {
   "codemirror_mode": {
    "name": "ipython",
    "version": 3
   },
   "file_extension": ".py",
   "mimetype": "text/x-python",
   "name": "python",
   "nbconvert_exporter": "python",
   "pygments_lexer": "ipython3",
   "version": "3.10.6"
  }
 },
 "nbformat": 4,
 "nbformat_minor": 5
}
