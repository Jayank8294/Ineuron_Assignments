{
 "cells": [
  {
   "cell_type": "code",
   "execution_count": null,
   "id": "8252a801-029f-4515-85db-d0627509b6b8",
   "metadata": {},
   "outputs": [],
   "source": [
    "#1. What does an empty dictionary's code look like?\n",
    "\n",
    "It looks -- {} (empty curly brackets"
   ]
  },
  {
   "cell_type": "code",
   "execution_count": null,
   "id": "db3582ec-e22f-461d-91c5-a2c4b3fd3247",
   "metadata": {},
   "outputs": [],
   "source": [
    "#2. What is the value of a dictionary value with the key 'foo' and the value 42?\n",
    "\n",
    "{'foo' : 42}"
   ]
  },
  {
   "cell_type": "code",
   "execution_count": null,
   "id": "9257dccf-4fb5-4576-ba37-56846ad663ec",
   "metadata": {},
   "outputs": [],
   "source": [
    "#3. What is the most significant distinction between a dictionary and a list?\n",
    "\n",
    "In dictionary the values are unordered and in list they are ordered.\n",
    "In dictionary the values are basically key and value pairs. whereas in list it doesn't have any keys"
   ]
  },
  {
   "cell_type": "code",
   "execution_count": null,
   "id": "1233448d-4622-406a-830a-4dc04eac656f",
   "metadata": {},
   "outputs": [],
   "source": [
    "#4. What happens if you try to access spam['foo'] if spam is {'bar': 100}?\n",
    "\n",
    "it gives us Key error as the key 'foo' is not present in the spam.\n",
    " "
   ]
  },
  {
   "cell_type": "code",
   "execution_count": null,
   "id": "a6199696-701b-4900-98dd-2c6ed66574a1",
   "metadata": {},
   "outputs": [],
   "source": [
    "#5. If a dictionary is stored in spam, what is the difference between the expressions \n",
    "#   'cat'   in spam      and           'cat' in spam.keys()?\n",
    "\n",
    "Both the expressions search for the values 'cat' in the keys of the dictionary. so there is no difference"
   ]
  },
  {
   "cell_type": "code",
   "execution_count": null,
   "id": "15c40cf2-515d-4a0e-9953-2e782bcf0a23",
   "metadata": {},
   "outputs": [],
   "source": [
    "#6. If a dictionary is stored in spam, \n",
    "#   what is the difference between the expressions 'cat' in spam and 'cat' in spam.values()?\n",
    "\n",
    "\n",
    "'cat' in spam:\n",
    "    This searches for the key 'cat' in the dictionary names spam.\n",
    "    \n",
    "whereas\n",
    " 'cat' in spam.values():\n",
    "        This searches for the value 'cat' in the dictionary for all the keys."
   ]
  },
  {
   "cell_type": "code",
   "execution_count": null,
   "id": "1b46e324-cb2b-4284-93c0-b1a055251b4a",
   "metadata": {},
   "outputs": [],
   "source": [
    "#7. What is a shortcut for the following code?\n",
    "#        if 'color' not in spam:\n",
    "#        spam['color'] = 'black'\n",
    "\n",
    "\n",
    "spam.setdefault('color', 'black')"
   ]
  },
  {
   "cell_type": "code",
   "execution_count": null,
   "id": "052b13e6-9dcb-4fa0-a60f-34279032a886",
   "metadata": {},
   "outputs": [],
   "source": [
    "#8. How do you \"pretty print\" dictionary values using which module and function?\n",
    "\n",
    "pprint would be the module\n",
    "and \n",
    "pprint() would be the function."
   ]
  }
 ],
 "metadata": {
  "kernelspec": {
   "display_name": "Python 3 (ipykernel)",
   "language": "python",
   "name": "python3"
  },
  "language_info": {
   "codemirror_mode": {
    "name": "ipython",
    "version": 3
   },
   "file_extension": ".py",
   "mimetype": "text/x-python",
   "name": "python",
   "nbconvert_exporter": "python",
   "pygments_lexer": "ipython3",
   "version": "3.10.6"
  }
 },
 "nbformat": 4,
 "nbformat_minor": 5
}
