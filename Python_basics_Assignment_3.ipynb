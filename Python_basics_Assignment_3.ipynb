{
 "cells": [
  {
   "cell_type": "code",
   "execution_count": null,
   "id": "7875ae5b-2726-479b-87f5-244423e76041",
   "metadata": {},
   "outputs": [],
   "source": [
    "#1. Why are functions advantageous to have in your programs?\n",
    "\n",
    "Once a function is defined, we can use it for the same functionality any number of times in the code \n",
    "instead of writing the same piece of code multiple times"
   ]
  },
  {
   "cell_type": "code",
   "execution_count": null,
   "id": "df5d3571-eb5d-470a-a309-ee8ba869e8f7",
   "metadata": {},
   "outputs": [],
   "source": [
    "#2. When does the code in a function run: when it's specified or when it's called?\n",
    "\n",
    "The function runs only when the function is called"
   ]
  },
  {
   "cell_type": "code",
   "execution_count": null,
   "id": "67cca730-6182-4ce8-8f16-915df7199710",
   "metadata": {},
   "outputs": [],
   "source": [
    "#3. What statement creates a function?\n",
    "\n",
    "'def' keyword is used to create the function\n",
    "\n",
    "Ex: \n",
    "def func1():\n",
    "    a = b+c"
   ]
  },
  {
   "cell_type": "code",
   "execution_count": null,
   "id": "9be44d7a-b5ba-44fd-bc8a-f368b9bb6b6b",
   "metadata": {},
   "outputs": [],
   "source": [
    "#4. What is the difference between a function and a function call?\n",
    "\n",
    "Function is a syntax of the code the should be executed. \n",
    "whereas function call is when the code inside the function actually executes."
   ]
  },
  {
   "cell_type": "code",
   "execution_count": null,
   "id": "76429e35-f8f5-4d7b-aafb-1c0c872acfac",
   "metadata": {},
   "outputs": [],
   "source": [
    "#5. How many global scopes are there in a Python program? How many local scopes?\n",
    "\n",
    "\n",
    "There is only one global scope in the python program. whereas we can have multiple local sopes."
   ]
  },
  {
   "cell_type": "code",
   "execution_count": null,
   "id": "32df2cdd-85cf-434e-b584-3f648ec34976",
   "metadata": {},
   "outputs": [],
   "source": [
    "#6. What happens to variables in a local scope when the function call returns?\n",
    "\n",
    "The value of the variables gets removed or deleted once the function call returns."
   ]
  },
  {
   "cell_type": "code",
   "execution_count": null,
   "id": "136a1861-8e5b-4ac5-9f0c-c77d229d9182",
   "metadata": {},
   "outputs": [],
   "source": [
    "#7. What is the concept of a return value? Is it possible to have a return value in an expression?\n",
    "\n",
    "We use return to make sure we can use the value of the function outside the function in the main program.\n",
    "\n",
    "Yes, We can use the return value in an expression"
   ]
  },
  {
   "cell_type": "code",
   "execution_count": null,
   "id": "bac0a8b2-1273-4c64-9041-a555ad271fe3",
   "metadata": {},
   "outputs": [],
   "source": [
    "#8. If a function does not have a return statement, what is the return value of a call to that function?\n",
    "\n",
    "None would be the default return vaue of a function if we dont use return statement"
   ]
  },
  {
   "cell_type": "code",
   "execution_count": null,
   "id": "6f32de0f-0921-4abb-9b57-f8e4c1860592",
   "metadata": {},
   "outputs": [],
   "source": [
    "#9. How do you make a function variable refer to the global variable?\n",
    "\n",
    "We can use the global keyword infront of the varaible to make the variable global."
   ]
  },
  {
   "cell_type": "code",
   "execution_count": null,
   "id": "32142249-39c2-4ab3-aba4-194d470942a3",
   "metadata": {},
   "outputs": [],
   "source": [
    "#10. What is the data type of None?\n",
    "\n",
    "NoneType is the data type of None."
   ]
  },
  {
   "cell_type": "code",
   "execution_count": null,
   "id": "d59a91a4-b75c-4637-b7b6-6f11d86bbb0b",
   "metadata": {},
   "outputs": [],
   "source": [
    "#11. What does the sentence import areallyourpetsnamederic do?\n",
    "\n",
    "It imports the library with the name 'areallyourpetsnamederic'"
   ]
  },
  {
   "cell_type": "code",
   "execution_count": null,
   "id": "79e621f4-3d5f-4c62-868f-c95005a21730",
   "metadata": {},
   "outputs": [],
   "source": [
    "#12. If you had a bacon() feature in a spam module, what would you call it after importing spam?\n",
    "\n",
    "spam.bacon()\n",
    "\n",
    "We can use the above statment to call the feature bacon()."
   ]
  },
  {
   "cell_type": "code",
   "execution_count": null,
   "id": "3e8654a9-5528-43d7-95ea-861db911720d",
   "metadata": {},
   "outputs": [],
   "source": [
    "#13. What can you do to save a programme from crashing if it encounters an error?\n",
    "\n",
    "We can always do Exception Handling using \"try\", \"except\", \"else\" and \"finally\" to stop the program from crashing"
   ]
  },
  {
   "cell_type": "code",
   "execution_count": null,
   "id": "ec078608-b903-4027-9f8d-a6fd384cc8f3",
   "metadata": {},
   "outputs": [],
   "source": [
    "#14. What is the purpose of the try clause? What is the purpose of the except clause?\n",
    "\n",
    "try clause is used to test the code to see if we get any errors.\n",
    "\n",
    "except clause is used to handle the exception that we may encounter in the try clause."
   ]
  }
 ],
 "metadata": {
  "kernelspec": {
   "display_name": "Python 3 (ipykernel)",
   "language": "python",
   "name": "python3"
  },
  "language_info": {
   "codemirror_mode": {
    "name": "ipython",
    "version": 3
   },
   "file_extension": ".py",
   "mimetype": "text/x-python",
   "name": "python",
   "nbconvert_exporter": "python",
   "pygments_lexer": "ipython3",
   "version": "3.10.6"
  }
 },
 "nbformat": 4,
 "nbformat_minor": 5
}
