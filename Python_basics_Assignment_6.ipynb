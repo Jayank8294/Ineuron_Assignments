{
 "cells": [
  {
   "cell_type": "code",
   "execution_count": null,
   "id": "a5406520-3ca4-4829-8289-162dc04a9d30",
   "metadata": {},
   "outputs": [],
   "source": [
    "#1. What are escape characters, and how do you use them?\n",
    "\n",
    "escape characters are the values in the string that would be used to type some specific values.\n",
    "\n",
    "ex: \\n -- new line character\n",
    " \\t -- Tab character"
   ]
  },
  {
   "cell_type": "code",
   "execution_count": null,
   "id": "8c2d23a7-c715-47a3-b509-f113f81a3f8f",
   "metadata": {},
   "outputs": [],
   "source": [
    "#2. What do the escape characters \\n and \\t stand for?\n",
    "\n",
    "\\n -- new line character\n",
    " \\t -- Tab character"
   ]
  },
  {
   "cell_type": "code",
   "execution_count": null,
   "id": "dec507fa-2a23-4a6e-a93d-f466fd908d4d",
   "metadata": {},
   "outputs": [],
   "source": [
    "#3. What is the way to include backslash characters in a string?\n",
    "\n",
    "We can use '\\\\' without quotes to represent backslash in a string.\n",
    "\n",
    "Ex: 'My name is Jayank \\\\'"
   ]
  },
  {
   "cell_type": "code",
   "execution_count": null,
   "id": "0fe0ea2b-3aa4-48bb-9e5b-49931b18227f",
   "metadata": {},
   "outputs": [],
   "source": [
    "#4. The string \"Howl's Moving Castle\" is a correct value. \n",
    "#    Why isn't the single quote character in the word Howl's not escaped a problem?\n",
    "\n",
    "\n",
    "The single quote is in between the double quotes of the string, Hence it will not be a problem. \n",
    "Similary we can use double quotes in the string by starting and ending the string with single quotes\n",
    "\n",
    "Ex: 'Jayank is \"good\".' -- This works to keep the \"\" while printing"
   ]
  },
  {
   "cell_type": "code",
   "execution_count": null,
   "id": "df6e5c76-c1de-409b-88c2-6dda95cd5963",
   "metadata": {},
   "outputs": [],
   "source": [
    "#5. How do you write a string of newlines if you don't want to use the n character?\n",
    "\n",
    "Option 1) We can print the values in multiple print statements. \n",
    "Option 2) enclose all the values in \"\"\"  \"\"\"(triple quotes)\n",
    "\n",
    "Ex: option- 1:\n",
    "    print(\"hello\")\n",
    "    print(\"HI\")\n",
    "    print(\"namasthe\")\n",
    "    \n",
    "    Option-2:\n",
    "        \n",
    "    print(\"\"\" Hello\n",
    "    Hi\n",
    "    Namasthe\"\"\")"
   ]
  },
  {
   "cell_type": "code",
   "execution_count": null,
   "id": "78576ef1-ee46-478d-9e96-ac0050ae826b",
   "metadata": {},
   "outputs": [],
   "source": [
    "#6. What are the values of the given expressions?\n",
    "'Hello, world!'[1]    ----- e\n",
    "'Hello, world!'[0:5]  ----- Hello\n",
    "'Hello, world!'[:5]   ----- Hello\n",
    "'Hello, world!'[3:]   ----- lo, world!"
   ]
  },
  {
   "cell_type": "code",
   "execution_count": null,
   "id": "a149711c-d8cc-4403-ac09-54fb41bd1d53",
   "metadata": {},
   "outputs": [],
   "source": [
    "#7. What are the values of the following expressions?\n",
    "'Hello'.upper()            ------------------ HELLO\n",
    "'Hello'.upper().isupper()  ------------------ True\n",
    "'Hello'.upper().lower()    ------------------ hello\n"
   ]
  },
  {
   "cell_type": "code",
   "execution_count": null,
   "id": "bd13ddc5-f6d4-4296-b763-35781b99911f",
   "metadata": {},
   "outputs": [],
   "source": [
    "#8. What are the values of the following expressions?\n",
    "'Remember, remember, the fifth of July.'.split()\n",
    "'-'.join('There can only one.'.split())\n",
    "\n",
    "\n",
    "['Remember,','remember,','the','fifth','of','July.']\n",
    "'There-can-only-one.'"
   ]
  },
  {
   "cell_type": "code",
   "execution_count": null,
   "id": "a596f0f9-aa63-4055-9938-ed307abb1b7b",
   "metadata": {},
   "outputs": [],
   "source": [
    "#9. What are the methods for right-justifying, left-justifying, and centering a string?\n",
    "\n",
    "rjust()\n",
    "ljust()\n",
    "center()\n",
    "\n",
    "these methods can be used to right-justifying, left-justifying, and centering a string respectively."
   ]
  },
  {
   "cell_type": "code",
   "execution_count": null,
   "id": "2c1d9e8d-cd07-4115-9c73-6ea87f42c0f6",
   "metadata": {},
   "outputs": [],
   "source": [
    "#10. What is the best way to remove whitespace characters from the start or end?\n",
    "\n",
    "lstrip() -- to trim at the start\n",
    "rstrip() -- to trim at the end\n",
    "strip() -- to remove both at the start and end."
   ]
  }
 ],
 "metadata": {
  "kernelspec": {
   "display_name": "Python 3 (ipykernel)",
   "language": "python",
   "name": "python3"
  },
  "language_info": {
   "codemirror_mode": {
    "name": "ipython",
    "version": 3
   },
   "file_extension": ".py",
   "mimetype": "text/x-python",
   "name": "python",
   "nbconvert_exporter": "python",
   "pygments_lexer": "ipython3",
   "version": "3.10.6"
  }
 },
 "nbformat": 4,
 "nbformat_minor": 5
}
