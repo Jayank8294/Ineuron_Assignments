{
 "cells": [
  {
   "cell_type": "code",
   "execution_count": null,
   "id": "4ba09ed4-2029-4883-bb90-640d2346a418",
   "metadata": {},
   "outputs": [],
   "source": [
    "#1. What is the name of the feature responsible for generating Regex objects?\n",
    "\n",
    "re.compile() is the feature resposible for generating Regex objects."
   ]
  },
  {
   "cell_type": "code",
   "execution_count": null,
   "id": "a0d39c4e-a4f6-4181-83d8-c4402737b10c",
   "metadata": {},
   "outputs": [],
   "source": [
    "#2. Why do raw strings often appear in Regex objects?\n",
    "\n",
    "We use the raw strings in Regex objects to make sure the backslashes are taken into account."
   ]
  },
  {
   "cell_type": "code",
   "execution_count": null,
   "id": "0073996b-d0f6-4774-aa74-85d8e4c47217",
   "metadata": {},
   "outputs": [],
   "source": [
    "#3. What is the return value of the search() method?\n",
    "\n",
    "re.search() gives the type match object if the expression matches.\n",
    "whereas it gives none type if the expression doesnt match."
   ]
  },
  {
   "cell_type": "code",
   "execution_count": null,
   "id": "bcbbe3df-c16e-4249-b3b6-395bbf092e0a",
   "metadata": {},
   "outputs": [],
   "source": [
    "#4. From a Match item, how do you get the actual strings that match the pattern?\n",
    "\n",
    "We can use re.group() fruncion to get the actual strings from the match item."
   ]
  },
  {
   "cell_type": "code",
   "execution_count": null,
   "id": "d258faf4-41bb-41b6-867d-9fdbf0cb1701",
   "metadata": {},
   "outputs": [],
   "source": [
    "#5. In the regex which created from the r'(\\d\\d\\d)-(\\d\\d\\d-\\d\\d\\d\\d)', what does group zero cover? Group 2? Group 1?\n",
    "\n",
    "Group 0 -- is the entire value.\n",
    "group 1 -- is the first set of brackets '()'\n",
    "Group 2 -- is the second set of bracktes '()'"
   ]
  },
  {
   "cell_type": "code",
   "execution_count": null,
   "id": "81932a51-925d-4e6e-9443-df38f7506d61",
   "metadata": {},
   "outputs": [],
   "source": [
    "#6. In standard expression syntax, parentheses and intervals have distinct meanings. \n",
    "#   How can you tell a regex that you want it to fit real parentheses and periods?\n",
    "\n",
    "We can use the backslashes to specify the real parentheses and periods."
   ]
  },
  {
   "cell_type": "code",
   "execution_count": null,
   "id": "44c01a29-190a-4778-9a2e-15ead977b495",
   "metadata": {},
   "outputs": [],
   "source": [
    "#7. The findall() method returns a string list or a list of string tuples.\n",
    "#  What causes it to return one of the two options?\n",
    "\n",
    "It depends on if the regular expression contains groups or not. if it contains groups, then tuples. if not lists."
   ]
  },
  {
   "cell_type": "code",
   "execution_count": null,
   "id": "2aad6f7a-ffd1-479b-8911-c1029fa0b8fd",
   "metadata": {},
   "outputs": [],
   "source": [
    "#8. In standard expressions, what does the | character mean?\n",
    "\n",
    "| symbol is equivalent to \"or\""
   ]
  },
  {
   "cell_type": "code",
   "execution_count": null,
   "id": "b47c3e71-2efa-41db-8d95-208718bcd507",
   "metadata": {},
   "outputs": [],
   "source": [
    "#9. In regular expressions, what does the character stand for?\n",
    "\n",
    "\n",
    "The character is not specified. So not sure what the question is."
   ]
  },
  {
   "cell_type": "code",
   "execution_count": null,
   "id": "5a551097-3648-40a3-ab92-4c56fefb8888",
   "metadata": {},
   "outputs": [],
   "source": [
    "#10.In regular expressions, what is the difference between the + and * characters?\n",
    "\n",
    "+  --- means one or more. it is required to have atleast one.\n",
    "*  --- means zero or many. it can be present or not present. it is not mandatory."
   ]
  },
  {
   "cell_type": "code",
   "execution_count": null,
   "id": "eab3b5c3-4e0d-45bd-9dae-936e8a0d5ee2",
   "metadata": {},
   "outputs": [],
   "source": [
    "#11. What is the difference between {4} and {4,5} in regular expression?\n",
    "\n",
    "\n",
    "{4} ---- means the group before this should be exactly 4 instances.\n",
    "{4,5} -- means the group before this should either be 4 or 5 instances."
   ]
  },
  {
   "cell_type": "code",
   "execution_count": null,
   "id": "875b5d1e-6259-49e8-9d4c-22e6440ac6ca",
   "metadata": {},
   "outputs": [],
   "source": [
    "#12. What do you mean by the \\d, \\w, and \\s shorthand character classes signify in regular expressions?\n",
    "\n",
    "\n",
    "\\d -- single disgit\n",
    "\\w -- single letter\n",
    "\\s -- single space charcter."
   ]
  },
  {
   "cell_type": "code",
   "execution_count": null,
   "id": "76356c2d-edeb-4c2b-9e2b-4bea76adf069",
   "metadata": {},
   "outputs": [],
   "source": [
    "#13. What do means by \\D, \\W, and \\S shorthand character classes signify in regular expressions?\n",
    "\n",
    "\\D -- single character which is not a digit\n",
    "\\W -- single character which is not a letter\n",
    "\\S -- single character which is not a space character"
   ]
  },
  {
   "cell_type": "code",
   "execution_count": null,
   "id": "2983bab4-7ec6-4b98-9ac2-6b1f28f75a8f",
   "metadata": {},
   "outputs": [],
   "source": [
    "#14. What is the difference between .*? and .*?\n",
    "\n",
    "\n",
    "The question shows both the characters as '.*?'. \n",
    "\n",
    "\n",
    ". -- specifies any character  except the newline character.\n",
    "* -- specified any number of times\n",
    "? -- specified as least time as possible.\n",
    "\n",
    ".*?  ---  Hence it gives a blank value always.\n",
    "\n",
    "Assuming the other character to be \n",
    "(.*)? -- this consider as a group. hence it provides the first group value.\n",
    "\n"
   ]
  },
  {
   "cell_type": "code",
   "execution_count": null,
   "id": "98bfbba5-2942-4fca-aa8d-fc71b62e1659",
   "metadata": {},
   "outputs": [],
   "source": [
    "#15. What is the syntax for matching both numbers and lowercase letters with a character class?\n",
    "\n",
    "We can use [0-9a-z]."
   ]
  },
  {
   "cell_type": "code",
   "execution_count": null,
   "id": "56daf648-1386-40f7-92db-9ccab3fca265",
   "metadata": {},
   "outputs": [],
   "source": [
    "#16. What is the procedure for making a normal expression in regax case insensitive?\n",
    "\n",
    "re.IGNORECASE() -- is a feature available to make a normal expression case insensitive.\n"
   ]
  },
  {
   "cell_type": "code",
   "execution_count": null,
   "id": "1ece0819-936c-478f-b269-f5a7098fa691",
   "metadata": {},
   "outputs": [],
   "source": [
    "#17. What does the . character normally match?\n",
    "# What does it match if re.DOTALL is passed as 2nd argument in re.compile()?\n",
    "\n",
    ". -- specifies any character except the newline character.\n",
    "\n",
    "\n",
    "but if we use re.DOTALL() it will also match the new line character."
   ]
  },
  {
   "cell_type": "code",
   "execution_count": null,
   "id": "93bfe496-5860-42b6-880d-7902e8135c45",
   "metadata": {},
   "outputs": [],
   "source": [
    "#18. If numReg = re.compile(r'\\d+'), \n",
    "#  what will numRegex.sub('X', '11 drummers, 10 pipers, five rings, 4 hen') return?\n",
    "\n",
    "according to the question it will throw an error as the varaible is not defined.\n",
    "\n",
    "Assuming the If condition in the question is   numRegx = recompile(r'\\d+')\n",
    "\n",
    "numRegx would capture any number of digits minimum one. Hence using the substitue in the string we would get\n",
    "\n",
    "Ans:\n",
    "X drummers, X pipers, five rings, X hen\n"
   ]
  },
  {
   "cell_type": "code",
   "execution_count": null,
   "id": "b777a184-4276-47f7-8e77-ba76217a5e42",
   "metadata": {},
   "outputs": [],
   "source": [
    "#19. What does passing re.VERBOSE as the 2nd argument to re.compile() allow to do?\n",
    "\n",
    "\n",
    "It allows us to add whitespace and comments to the string passed to re.compile()"
   ]
  },
  {
   "cell_type": "code",
   "execution_count": null,
   "id": "3d2fa7c0-3ba6-4031-bfd4-65154e017ba3",
   "metadata": {},
   "outputs": [],
   "source": [
    "\"\"\"\n",
    "20. How would you write a regex that match a number with comma for every three digits? It must match the given following:\n",
    "'42'\n",
    "'1,234'\n",
    "'6,368,745'\n",
    "but not the following:\n",
    "'12,34,567' (which has only two digits between the commas)\n",
    "'1234' (which lacks commas)\n",
    "\"\"\"\n",
    "\n",
    "\n",
    "numReg = re.compile(r'\\d{1,3}(,\\d\\d\\d)*$')\n",
    "\n",
    "ABC = re.compile(r'^\\d{1,3}(,\\d{3})*$')\n",
    "\n",
    "\n",
    "I believe both the expressions work."
   ]
  },
  {
   "cell_type": "code",
   "execution_count": null,
   "id": "2166ed94-1b89-4ecb-8687-12114511cb83",
   "metadata": {},
   "outputs": [],
   "source": [
    "\"\"\"\n",
    "21. How would you write a regex that matches the full name of someone whose last name is Watanabe? \n",
    "You can assume that the first name that comes before it will always be one word that begins with a capital letter. \n",
    "The regex must match the following:\n",
    "'Haruto Watanabe'\n",
    "'Alice Watanabe'\n",
    "'RoboCop Watanabe'\n",
    "but not the following:\n",
    "'haruto Watanabe' (where the first name is not capitalized)\n",
    "'Mr. Watanabe' (where the preceding word has a nonletter character)\n",
    "'Watanabe' (which has no first name)\n",
    "'Haruto watanabe' (where Watanabe is not capitalized)\n",
    "\n",
    "\"\"\"\n",
    "\n",
    "expression = re.compile(r'[A-Z][a-z]*\\sWatanabe')\n",
    "\n",
    "\n",
    "This expression should work."
   ]
  },
  {
   "cell_type": "code",
   "execution_count": null,
   "id": "da63d943-6a2c-4d5c-a6f2-4fda9c165376",
   "metadata": {},
   "outputs": [],
   "source": [
    "\"\"\"\n",
    "22. How would you write a regex that matches a sentence \n",
    "where the first word is either Alice, Bob, or Carol; \n",
    "the second word is either eats, pets, or throws; \n",
    "the third word is apples, cats, or baseballs; \n",
    "and the sentence ends with a period? \n",
    "This regex should be case-insensitive. \n",
    "It must match the following:\n",
    "'Alice eats apples.'\n",
    "'Bob pets cats.'\n",
    "'Carol throws baseballs.'\n",
    "'Alice throws Apples.'\n",
    "'BOB EATS CATS.'\n",
    "but not the following:\n",
    "'RoboCop eats apples.'\n",
    "'ALICE THROWS FOOTBALLS.'\n",
    "'Carol eats 7 cats.'\n",
    "\"\"\"\n",
    "\n",
    "reg = re.compile(r'(Alice|Bob|Carol)\\s(eats|pets|throws)\\s(apples|cats|baseballs)\\.',re.IGNORECASE)\n",
    "\n",
    "\n",
    "This expression shoudl work."
   ]
  }
 ],
 "metadata": {
  "kernelspec": {
   "display_name": "Python 3 (ipykernel)",
   "language": "python",
   "name": "python3"
  },
  "language_info": {
   "codemirror_mode": {
    "name": "ipython",
    "version": 3
   },
   "file_extension": ".py",
   "mimetype": "text/x-python",
   "name": "python",
   "nbconvert_exporter": "python",
   "pygments_lexer": "ipython3",
   "version": "3.10.6"
  }
 },
 "nbformat": 4,
 "nbformat_minor": 5
}
