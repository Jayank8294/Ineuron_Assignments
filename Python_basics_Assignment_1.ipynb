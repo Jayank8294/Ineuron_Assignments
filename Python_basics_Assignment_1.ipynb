{
 "cells": [
  {
   "cell_type": "code",
   "execution_count": null,
   "id": "f262227a-b4d5-4f05-8b13-0310d19f4f98",
   "metadata": {},
   "outputs": [],
   "source": [
    "\"\"\"\n",
    "1. In the below elements which of them are values or an expression? eg:- values can be integer or string and expressions will be mathematical operators.\n",
    "* \n",
    "'hello'\n",
    "-87.8\n",
    "- \n",
    "/ \n",
    "+\t\n",
    "6 \n",
    "\"\"\"\n",
    "Answer:\n",
    "In the question above, the values are \"'hello', -87.8, 6\"\n",
    "and the expressions are '*,-,+,/'"
   ]
  },
  {
   "cell_type": "code",
   "execution_count": null,
   "id": "b951f3d5-9cfb-40c0-8486-bbf88225fc4d",
   "metadata": {},
   "outputs": [],
   "source": [
    "#2. What is the difference between string and variable?\n",
    "string is a data type where as the variable is reference to an object\n",
    "\n",
    "Example:  a = 'value that is passed' \n",
    "           here \"a\" is called the variable and the type of the value passed is string\n",
    "           We can get the type of the object using the function \"type(a))\""
   ]
  },
  {
   "cell_type": "code",
   "execution_count": null,
   "id": "98df7dfc-2873-44f1-97f7-954c4bd5cf68",
   "metadata": {},
   "outputs": [],
   "source": [
    "#3. Describe three different data types.\n",
    "We have different data types like 'int', 'str','float','complex','bool' etc\n",
    "\n",
    "string is a data type which contains one or more charcaters enclosed with single or double quotes (\"hi\" , 'hello','a', 'this is a string' etc)\n",
    "int is a data type which has the numeric value (real number) (Ex: -1,2,0 etc)\n",
    "float us a data type which contains the decimal values of the number( Ex: 10.56, 12.0 etc)"
   ]
  },
  {
   "cell_type": "code",
   "execution_count": null,
   "id": "383c090a-d7e4-41a3-9b58-368f898ff1e0",
   "metadata": {},
   "outputs": [],
   "source": [
    "#4. What is an expression made up of? What do all expressions do?\n",
    "\n",
    "Expression is made of objects and operands. They help to get the intended results based on the requirement.\n",
    "Ex: a = b+c (here we are getting the value of 'a' based on the values of 'b' and 'c' using an '+' operand.)"
   ]
  },
  {
   "cell_type": "code",
   "execution_count": null,
   "id": "1950aa3a-4acb-407f-8b2c-04af0170a6d8",
   "metadata": {},
   "outputs": [],
   "source": [
    "#5. This assignment statements, like spam = 10. What is the difference between an expression and a statement?\n",
    "\n",
    "statement is something which we let the python know by writing in the source code directly. they do not need any further evaluation.\n",
    "Ex: a = 10 (here we are informing python that the value of 'a' is 10 and it is not dependent on any expression to identify the result of 'a')\n",
    "\n",
    "Expression requires the python to solve the equation.\n",
    "Ex: c = a (here we just know the value of 'a' but only python executes we can get the value of 'c') "
   ]
  },
  {
   "cell_type": "code",
   "execution_count": null,
   "id": "33547ee4-4810-4388-b920-40492b05bbb4",
   "metadata": {},
   "outputs": [],
   "source": [
    "#6. After running the following code, what does the variable bacon contain?\n",
    "bacon = 22\n",
    "bacon + 1\n",
    "\n",
    "\n",
    "The value bacon has the value 22."
   ]
  },
  {
   "cell_type": "code",
   "execution_count": null,
   "id": "e4600682-126d-4d77-9327-002d9395b9a2",
   "metadata": {},
   "outputs": [],
   "source": [
    "#7. What should the values of the following two terms be?\n",
    "'spam' + 'spamspam'\n",
    "'spam' * 3\n",
    "\n",
    "\n",
    "Both the above statements gives the same result as \"spamspamspam\""
   ]
  },
  {
   "cell_type": "code",
   "execution_count": null,
   "id": "1c5196a4-5c42-4cc3-bfc2-a1605c466c54",
   "metadata": {},
   "outputs": [],
   "source": [
    "#8. Why is eggs a valid variable name while 100 is invalid?\n",
    "\n",
    "A variable name should not start with numbers and should not be a predefined keywords.\n",
    "\n",
    "Since 'eggs' is not a predefined keyword and '100' is a number, eggs is valid whereas 100 is not"
   ]
  },
  {
   "cell_type": "code",
   "execution_count": null,
   "id": "5dc90474-f2ff-4741-a459-fc660853ad8a",
   "metadata": {},
   "outputs": [],
   "source": [
    "#9. What three functions can be used to get the integer, floating-point number, or string version of a value?\n",
    "\n",
    "int(value)\n",
    "float(value)\n",
    "str(value)\n",
    "\n",
    "using the above type casting methods, we can get the desired outputs"
   ]
  },
  {
   "cell_type": "code",
   "execution_count": null,
   "id": "43248112-438d-4388-b59c-20b66f4ed572",
   "metadata": {},
   "outputs": [],
   "source": [
    "#10. Why does this expression cause an error? How can you fix it?\n",
    "'I have eaten ' + 99 + ' burritos.'\n",
    "\n",
    "\n",
    "we are trying to concatenate an integer with string. So we will get an TypeError.\n",
    "\n",
    "we can just enclose/wrap the 99 with single quotes '99' and try running the same statement to get the result error free."
   ]
  }
 ],
 "metadata": {
  "kernelspec": {
   "display_name": "Python 3 (ipykernel)",
   "language": "python",
   "name": "python3"
  },
  "language_info": {
   "codemirror_mode": {
    "name": "ipython",
    "version": 3
   },
   "file_extension": ".py",
   "mimetype": "text/x-python",
   "name": "python",
   "nbconvert_exporter": "python",
   "pygments_lexer": "ipython3",
   "version": "3.10.6"
  }
 },
 "nbformat": 4,
 "nbformat_minor": 5
}
